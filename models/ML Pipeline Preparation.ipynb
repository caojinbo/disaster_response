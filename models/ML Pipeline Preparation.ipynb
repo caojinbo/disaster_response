{
 "cells": [
  {
   "cell_type": "markdown",
   "metadata": {},
   "source": [
    "# ML Pipeline Preparation\n",
    "Follow the instructions below to help you create your ML pipeline.\n",
    "### 1. Import libraries and load data from database.\n",
    "- Import Python libraries\n",
    "- Load dataset from database with [`read_sql_table`](https://pandas.pydata.org/pandas-docs/stable/generated/pandas.read_sql_table.html)\n",
    "- Define feature and target variables X and Y"
   ]
  },
  {
   "cell_type": "code",
   "execution_count": 1,
   "metadata": {},
   "outputs": [
    {
     "name": "stderr",
     "output_type": "stream",
     "text": [
      "[nltk_data] Downloading package punkt to\n",
      "[nltk_data]     C:\\Users\\cao\\AppData\\Roaming\\nltk_data...\n",
      "[nltk_data]   Package punkt is already up-to-date!\n",
      "[nltk_data] Downloading package wordnet to\n",
      "[nltk_data]     C:\\Users\\cao\\AppData\\Roaming\\nltk_data...\n",
      "[nltk_data]   Package wordnet is already up-to-date!\n",
      "[nltk_data] Downloading package averaged_perceptron_tagger to\n",
      "[nltk_data]     C:\\Users\\cao\\AppData\\Roaming\\nltk_data...\n",
      "[nltk_data]   Package averaged_perceptron_tagger is already up-to-\n",
      "[nltk_data]       date!\n",
      "[nltk_data] Downloading package stopwords to\n",
      "[nltk_data]     C:\\Users\\cao\\AppData\\Roaming\\nltk_data...\n",
      "[nltk_data]   Package stopwords is already up-to-date!\n"
     ]
    },
    {
     "data": {
      "text/plain": [
       "True"
      ]
     },
     "execution_count": 1,
     "metadata": {},
     "output_type": "execute_result"
    }
   ],
   "source": [
    "import nltk\n",
    "nltk.download(['punkt', 'wordnet', 'averaged_perceptron_tagger', 'stopwords'])"
   ]
  },
  {
   "cell_type": "code",
   "execution_count": 2,
   "metadata": {},
   "outputs": [],
   "source": [
    "# import libraries\n",
    "import pandas as pd\n",
    "from sqlalchemy import create_engine\n",
    "from nltk.tokenize import word_tokenize\n",
    "from nltk.stem import WordNetLemmatizer\n",
    "from nltk.corpus import stopwords\n",
    "import re\n",
    "from sklearn.pipeline import Pipeline\n",
    "from sklearn.model_selection import train_test_split\n",
    "from sklearn.multioutput import MultiOutputClassifier\n",
    "from sklearn.ensemble import RandomForestClassifier\n",
    "from sklearn.feature_extraction.text import CountVectorizer, TfidfTransformer\n",
    "from sklearn.preprocessing import MultiLabelBinarizer\n",
    "from sklearn.metrics import f1_score, classification_report, accuracy_score, make_scorer, fbeta_score\n",
    "from sklearn.model_selection import GridSearchCV\n",
    "import matplotlib.pyplot as plt"
   ]
  },
  {
   "cell_type": "code",
   "execution_count": 3,
   "metadata": {},
   "outputs": [
    {
     "data": {
      "text/plain": [
       "(26215, 36)"
      ]
     },
     "execution_count": 3,
     "metadata": {},
     "output_type": "execute_result"
    }
   ],
   "source": [
    "# load data from database\n",
    "engine = create_engine('sqlite:///' + '..\\\\data\\\\disaster_db.db')\n",
    "df = pd.read_sql_table(\"InsertTableName\", engine)\n",
    "X = df.message\n",
    "Y = df.drop(['id', 'message', 'original', 'genre'], axis=1)\n",
    "Y.shape"
   ]
  },
  {
   "cell_type": "markdown",
   "metadata": {},
   "source": [
    "### 2. Write a tokenization function to process your text data"
   ]
  },
  {
   "cell_type": "code",
   "execution_count": 4,
   "metadata": {},
   "outputs": [],
   "source": [
    "def tokenize(text):\n",
    "    # Normalize and remove punctuations\n",
    "    text = re.sub(r\"[^a-zA-Z0-9]\", ' ', text.lower())\n",
    "    # Tokenize\n",
    "    words = word_tokenize(text)\n",
    "    # Remove Stopwords\n",
    "    words = [w for w in words if w not in stopwords.words('english')]\n",
    "    # Lemmatize all the nouns and verbs\n",
    "    lemmatizer = WordNetLemmatizer()\n",
    "    clean = [lemmatizer.lemmatize(w, pos='n').strip() for w in words]\n",
    "    clean = [lemmatizer.lemmatize(w, pos='v').strip() for w in clean]\n",
    "    \n",
    "    return clean"
   ]
  },
  {
   "cell_type": "markdown",
   "metadata": {},
   "source": [
    "### 3. Build a machine learning pipeline\n",
    "This machine pipeline should take in the `message` column as input and output classification results on the other 36 categories in the dataset. You may find the [MultiOutputClassifier](http://scikit-learn.org/stable/modules/generated/sklearn.multioutput.MultiOutputClassifier.html) helpful for predicting multiple target variables."
   ]
  },
  {
   "cell_type": "code",
   "execution_count": 5,
   "metadata": {},
   "outputs": [],
   "source": [
    "pipeline = Pipeline([\n",
    "        ('vect', CountVectorizer(tokenizer=tokenize)),\n",
    "        ('tfidf', TfidfTransformer()),\n",
    "        ('clf', MultiOutputClassifier(RandomForestClassifier()))\n",
    "    ])"
   ]
  },
  {
   "cell_type": "markdown",
   "metadata": {},
   "source": [
    "### 4. Train pipeline\n",
    "- Split data into train and test sets\n",
    "- Train pipeline"
   ]
  },
  {
   "cell_type": "code",
   "execution_count": 6,
   "metadata": {},
   "outputs": [],
   "source": [
    "X_train, X_test, Y_train, Y_test = train_test_split(X, Y, random_state=42)"
   ]
  },
  {
   "cell_type": "code",
   "execution_count": 7,
   "metadata": {},
   "outputs": [
    {
     "data": {
      "text/plain": [
       "Index(['related', 'request', 'offer', 'aid_related', 'medical_help',\n",
       "       'medical_products', 'search_and_rescue', 'security', 'military',\n",
       "       'child_alone', 'water', 'food', 'shelter', 'clothing', 'money',\n",
       "       'missing_people', 'refugees', 'death', 'other_aid',\n",
       "       'infrastructure_related', 'transport', 'buildings', 'electricity',\n",
       "       'tools', 'hospitals', 'shops', 'aid_centers', 'other_infrastructure',\n",
       "       'weather_related', 'floods', 'storm', 'fire', 'earthquake', 'cold',\n",
       "       'other_weather', 'direct_report'],\n",
       "      dtype='object')"
      ]
     },
     "execution_count": 7,
     "metadata": {},
     "output_type": "execute_result"
    }
   ],
   "source": [
    "Y_train.columns"
   ]
  },
  {
   "cell_type": "code",
   "execution_count": 8,
   "metadata": {},
   "outputs": [
    {
     "data": {
      "text/plain": [
       "Pipeline(steps=[('vect',\n",
       "                 CountVectorizer(tokenizer=<function tokenize at 0x00000292D5464430>)),\n",
       "                ('tfidf', TfidfTransformer()),\n",
       "                ('clf',\n",
       "                 MultiOutputClassifier(estimator=RandomForestClassifier()))])"
      ]
     },
     "execution_count": 8,
     "metadata": {},
     "output_type": "execute_result"
    }
   ],
   "source": [
    "pipeline.fit(X_train, Y_train)"
   ]
  },
  {
   "cell_type": "markdown",
   "metadata": {},
   "source": [
    "### 5. Test your model\n",
    "Report the f1 score, precision and recall for each output category of the dataset. You can do this by iterating through the columns and calling sklearn's `classification_report` on each."
   ]
  },
  {
   "cell_type": "code",
   "execution_count": 9,
   "metadata": {},
   "outputs": [],
   "source": [
    "Y_pred = pipeline.predict(X_test)"
   ]
  },
  {
   "cell_type": "code",
   "execution_count": 10,
   "metadata": {
    "scrolled": false
   },
   "outputs": [
    {
     "name": "stdout",
     "output_type": "stream",
     "text": [
      "Category: related \n",
      "               precision    recall  f1-score   support\n",
      "\n",
      "       False       0.70      0.41      0.51      1553\n",
      "        True       0.84      0.95      0.89      5001\n",
      "\n",
      "    accuracy                           0.82      6554\n",
      "   macro avg       0.77      0.68      0.70      6554\n",
      "weighted avg       0.80      0.82      0.80      6554\n",
      "\n",
      "Accuracy of                   related: 0.82\n",
      "Category: request \n",
      "               precision    recall  f1-score   support\n",
      "\n",
      "       False       0.91      0.98      0.94      5461\n",
      "        True       0.84      0.50      0.62      1093\n",
      "\n",
      "    accuracy                           0.90      6554\n",
      "   macro avg       0.87      0.74      0.78      6554\n",
      "weighted avg       0.90      0.90      0.89      6554\n",
      "\n",
      "Accuracy of                   request: 0.90\n",
      "Category: offer \n",
      "               precision    recall  f1-score   support\n",
      "\n",
      "       False       1.00      1.00      1.00      6522\n",
      "        True       0.00      0.00      0.00        32\n",
      "\n",
      "    accuracy                           1.00      6554\n",
      "   macro avg       0.50      0.50      0.50      6554\n",
      "weighted avg       0.99      1.00      0.99      6554\n",
      "\n",
      "Accuracy of                     offer: 1.00\n",
      "Category: aid_related \n",
      "               precision    recall  f1-score   support\n",
      "\n",
      "       False       0.79      0.85      0.82      3854\n",
      "        True       0.76      0.68      0.72      2700\n",
      "\n",
      "    accuracy                           0.78      6554\n",
      "   macro avg       0.78      0.77      0.77      6554\n",
      "weighted avg       0.78      0.78      0.78      6554\n",
      "\n",
      "Accuracy of               aid_related: 0.78\n",
      "Category: medical_help \n",
      "               precision    recall  f1-score   support\n",
      "\n",
      "       False       0.92      1.00      0.96      6022\n",
      "        True       0.72      0.08      0.15       532\n",
      "\n",
      "    accuracy                           0.92      6554\n",
      "   macro avg       0.82      0.54      0.55      6554\n",
      "weighted avg       0.91      0.92      0.89      6554\n",
      "\n",
      "Accuracy of              medical_help: 0.92\n",
      "Category: medical_products \n",
      "               precision    recall  f1-score   support\n",
      "\n",
      "       False       0.95      1.00      0.97      6209\n",
      "        True       0.80      0.09      0.17       345\n",
      "\n",
      "    accuracy                           0.95      6554\n",
      "   macro avg       0.88      0.55      0.57      6554\n",
      "weighted avg       0.94      0.95      0.93      6554\n",
      "\n",
      "Accuracy of          medical_products: 0.95\n",
      "Category: search_and_rescue \n",
      "               precision    recall  f1-score   support\n",
      "\n",
      "       False       0.98      1.00      0.99      6389\n",
      "        True       0.64      0.04      0.08       165\n",
      "\n",
      "    accuracy                           0.98      6554\n",
      "   macro avg       0.81      0.52      0.53      6554\n",
      "weighted avg       0.97      0.98      0.96      6554\n",
      "\n",
      "Accuracy of         search_and_rescue: 0.98\n",
      "Category: security \n",
      "               precision    recall  f1-score   support\n",
      "\n",
      "       False       0.98      1.00      0.99      6427\n",
      "        True       0.25      0.01      0.02       127\n",
      "\n",
      "    accuracy                           0.98      6554\n",
      "   macro avg       0.62      0.50      0.50      6554\n",
      "weighted avg       0.97      0.98      0.97      6554\n",
      "\n",
      "Accuracy of                  security: 0.98\n",
      "Category: military \n",
      "               precision    recall  f1-score   support\n",
      "\n",
      "       False       0.97      1.00      0.99      6357\n",
      "        True       0.67      0.04      0.08       197\n",
      "\n",
      "    accuracy                           0.97      6554\n",
      "   macro avg       0.82      0.52      0.53      6554\n",
      "weighted avg       0.96      0.97      0.96      6554\n",
      "\n",
      "Accuracy of                  military: 0.97\n",
      "Category: child_alone \n",
      "               precision    recall  f1-score   support\n",
      "\n",
      "       False       1.00      1.00      1.00      6554\n",
      "\n",
      "    accuracy                           1.00      6554\n",
      "   macro avg       1.00      1.00      1.00      6554\n",
      "weighted avg       1.00      1.00      1.00      6554\n",
      "\n",
      "Accuracy of               child_alone: 1.00\n",
      "Category: water \n",
      "               precision    recall  f1-score   support\n",
      "\n",
      "       False       0.96      1.00      0.98      6146\n",
      "        True       0.87      0.40      0.55       408\n",
      "\n",
      "    accuracy                           0.96      6554\n",
      "   macro avg       0.92      0.70      0.76      6554\n",
      "weighted avg       0.96      0.96      0.95      6554\n",
      "\n",
      "Accuracy of                     water: 0.96\n",
      "Category: food \n",
      "               precision    recall  f1-score   support\n",
      "\n",
      "       False       0.95      0.99      0.97      5831\n",
      "        True       0.87      0.59      0.70       723\n",
      "\n",
      "    accuracy                           0.95      6554\n",
      "   macro avg       0.91      0.79      0.84      6554\n",
      "weighted avg       0.94      0.95      0.94      6554\n",
      "\n",
      "Accuracy of                      food: 0.95\n",
      "Category: shelter \n",
      "               precision    recall  f1-score   support\n",
      "\n",
      "       False       0.94      0.99      0.97      5964\n",
      "        True       0.82      0.37      0.51       590\n",
      "\n",
      "    accuracy                           0.94      6554\n",
      "   macro avg       0.88      0.68      0.74      6554\n",
      "weighted avg       0.93      0.94      0.93      6554\n",
      "\n",
      "Accuracy of                   shelter: 0.94\n",
      "Category: clothing \n",
      "               precision    recall  f1-score   support\n",
      "\n",
      "       False       0.99      1.00      0.99      6459\n",
      "        True       0.71      0.13      0.21        95\n",
      "\n",
      "    accuracy                           0.99      6554\n",
      "   macro avg       0.85      0.56      0.60      6554\n",
      "weighted avg       0.98      0.99      0.98      6554\n",
      "\n",
      "Accuracy of                  clothing: 0.99\n",
      "Category: money \n",
      "               precision    recall  f1-score   support\n",
      "\n",
      "       False       0.98      1.00      0.99      6416\n",
      "        True       0.89      0.06      0.11       138\n",
      "\n",
      "    accuracy                           0.98      6554\n",
      "   macro avg       0.93      0.53      0.55      6554\n",
      "weighted avg       0.98      0.98      0.97      6554\n",
      "\n"
     ]
    },
    {
     "name": "stderr",
     "output_type": "stream",
     "text": [
      "C:\\Users\\cao\\anaconda3\\lib\\site-packages\\sklearn\\metrics\\_classification.py:1248: UndefinedMetricWarning: Precision and F-score are ill-defined and being set to 0.0 in labels with no predicted samples. Use `zero_division` parameter to control this behavior.\n",
      "  _warn_prf(average, modifier, msg_start, len(result))\n",
      "C:\\Users\\cao\\anaconda3\\lib\\site-packages\\sklearn\\metrics\\_classification.py:1248: UndefinedMetricWarning: Precision and F-score are ill-defined and being set to 0.0 in labels with no predicted samples. Use `zero_division` parameter to control this behavior.\n",
      "  _warn_prf(average, modifier, msg_start, len(result))\n",
      "C:\\Users\\cao\\anaconda3\\lib\\site-packages\\sklearn\\metrics\\_classification.py:1248: UndefinedMetricWarning: Precision and F-score are ill-defined and being set to 0.0 in labels with no predicted samples. Use `zero_division` parameter to control this behavior.\n",
      "  _warn_prf(average, modifier, msg_start, len(result))\n"
     ]
    },
    {
     "name": "stdout",
     "output_type": "stream",
     "text": [
      "Accuracy of                     money: 0.98\n",
      "Category: missing_people \n",
      "               precision    recall  f1-score   support\n",
      "\n",
      "       False       0.99      1.00      0.99      6480\n",
      "        True       1.00      0.01      0.03        74\n",
      "\n",
      "    accuracy                           0.99      6554\n",
      "   macro avg       0.99      0.51      0.51      6554\n",
      "weighted avg       0.99      0.99      0.98      6554\n",
      "\n",
      "Accuracy of            missing_people: 0.99\n",
      "Category: refugees \n",
      "               precision    recall  f1-score   support\n",
      "\n",
      "       False       0.97      1.00      0.98      6331\n",
      "        True       0.77      0.04      0.08       223\n",
      "\n",
      "    accuracy                           0.97      6554\n",
      "   macro avg       0.87      0.52      0.53      6554\n",
      "weighted avg       0.96      0.97      0.95      6554\n",
      "\n",
      "Accuracy of                  refugees: 0.97\n",
      "Category: death \n",
      "               precision    recall  f1-score   support\n",
      "\n",
      "       False       0.96      1.00      0.98      6253\n",
      "        True       0.88      0.12      0.21       301\n",
      "\n",
      "    accuracy                           0.96      6554\n",
      "   macro avg       0.92      0.56      0.59      6554\n",
      "weighted avg       0.96      0.96      0.94      6554\n",
      "\n",
      "Accuracy of                     death: 0.96\n",
      "Category: other_aid \n",
      "               precision    recall  f1-score   support\n",
      "\n",
      "       False       0.87      1.00      0.93      5689\n",
      "        True       0.57      0.04      0.07       865\n",
      "\n",
      "    accuracy                           0.87      6554\n",
      "   macro avg       0.72      0.52      0.50      6554\n",
      "weighted avg       0.83      0.87      0.82      6554\n",
      "\n",
      "Accuracy of                 other_aid: 0.87\n",
      "Category: infrastructure_related \n",
      "               precision    recall  f1-score   support\n",
      "\n",
      "       False       0.94      1.00      0.97      6144\n",
      "        True       0.00      0.00      0.00       410\n",
      "\n",
      "    accuracy                           0.94      6554\n",
      "   macro avg       0.47      0.50      0.48      6554\n",
      "weighted avg       0.88      0.94      0.91      6554\n",
      "\n",
      "Accuracy of    infrastructure_related: 0.94\n",
      "Category: transport \n",
      "               precision    recall  f1-score   support\n",
      "\n",
      "       False       0.96      1.00      0.98      6266\n",
      "        True       0.73      0.06      0.10       288\n",
      "\n",
      "    accuracy                           0.96      6554\n",
      "   macro avg       0.84      0.53      0.54      6554\n",
      "weighted avg       0.95      0.96      0.94      6554\n",
      "\n",
      "Accuracy of                 transport: 0.96\n",
      "Category: buildings \n",
      "               precision    recall  f1-score   support\n",
      "\n",
      "       False       0.95      1.00      0.98      6223\n",
      "        True       0.78      0.10      0.17       331\n",
      "\n",
      "    accuracy                           0.95      6554\n",
      "   macro avg       0.87      0.55      0.57      6554\n",
      "weighted avg       0.95      0.95      0.94      6554\n",
      "\n",
      "Accuracy of                 buildings: 0.95\n",
      "Category: electricity \n",
      "               precision    recall  f1-score   support\n",
      "\n",
      "       False       0.98      1.00      0.99      6410\n",
      "        True       1.00      0.02      0.04       144\n",
      "\n",
      "    accuracy                           0.98      6554\n",
      "   macro avg       0.99      0.51      0.51      6554\n",
      "weighted avg       0.98      0.98      0.97      6554\n",
      "\n",
      "Accuracy of               electricity: 0.98\n",
      "Category: tools \n",
      "               precision    recall  f1-score   support\n",
      "\n",
      "       False       0.99      1.00      1.00      6508\n",
      "        True       0.00      0.00      0.00        46\n",
      "\n",
      "    accuracy                           0.99      6554\n",
      "   macro avg       0.50      0.50      0.50      6554\n",
      "weighted avg       0.99      0.99      0.99      6554\n",
      "\n",
      "Accuracy of                     tools: 0.99\n",
      "Category: hospitals \n",
      "               precision    recall  f1-score   support\n",
      "\n",
      "       False       0.99      1.00      1.00      6494\n",
      "        True       0.00      0.00      0.00        60\n",
      "\n",
      "    accuracy                           0.99      6554\n",
      "   macro avg       0.50      0.50      0.50      6554\n",
      "weighted avg       0.98      0.99      0.99      6554\n",
      "\n",
      "Accuracy of                 hospitals: 0.99\n",
      "Category: shops \n",
      "               precision    recall  f1-score   support\n",
      "\n",
      "       False       1.00      1.00      1.00      6525\n",
      "        True       0.00      0.00      0.00        29\n",
      "\n",
      "    accuracy                           1.00      6554\n",
      "   macro avg       0.50      0.50      0.50      6554\n",
      "weighted avg       0.99      1.00      0.99      6554\n",
      "\n",
      "Accuracy of                     shops: 1.00\n",
      "Category: aid_centers \n",
      "               precision    recall  f1-score   support\n",
      "\n",
      "       False       0.99      1.00      0.99      6477\n",
      "        True       0.00      0.00      0.00        77\n",
      "\n",
      "    accuracy                           0.99      6554\n",
      "   macro avg       0.49      0.50      0.50      6554\n",
      "weighted avg       0.98      0.99      0.98      6554\n",
      "\n",
      "Accuracy of               aid_centers: 0.99\n",
      "Category: other_infrastructure \n",
      "               precision    recall  f1-score   support\n",
      "\n",
      "       False       0.96      1.00      0.98      6277\n",
      "        True       0.00      0.00      0.00       277\n",
      "\n",
      "    accuracy                           0.96      6554\n",
      "   macro avg       0.48      0.50      0.49      6554\n",
      "weighted avg       0.92      0.96      0.94      6554\n",
      "\n",
      "Accuracy of      other_infrastructure: 0.96\n",
      "Category: weather_related \n",
      "               precision    recall  f1-score   support\n",
      "\n",
      "       False       0.90      0.95      0.92      4738\n",
      "        True       0.85      0.71      0.77      1816\n",
      "\n",
      "    accuracy                           0.88      6554\n",
      "   macro avg       0.87      0.83      0.85      6554\n",
      "weighted avg       0.88      0.88      0.88      6554\n",
      "\n",
      "Accuracy of           weather_related: 0.88\n",
      "Category: floods \n",
      "               precision    recall  f1-score   support\n",
      "\n",
      "       False       0.95      1.00      0.97      6008\n",
      "        True       0.92      0.42      0.57       546\n",
      "\n",
      "    accuracy                           0.95      6554\n",
      "   macro avg       0.93      0.71      0.77      6554\n",
      "weighted avg       0.95      0.95      0.94      6554\n",
      "\n",
      "Accuracy of                    floods: 0.95\n",
      "Category: storm \n",
      "               precision    recall  f1-score   support\n",
      "\n",
      "       False       0.95      0.99      0.97      5958\n",
      "        True       0.77      0.48      0.59       596\n",
      "\n",
      "    accuracy                           0.94      6554\n",
      "   macro avg       0.86      0.73      0.78      6554\n",
      "weighted avg       0.93      0.94      0.93      6554\n",
      "\n",
      "Accuracy of                     storm: 0.94\n",
      "Category: fire \n",
      "               precision    recall  f1-score   support\n",
      "\n",
      "       False       0.99      1.00      0.99      6487\n",
      "        True       0.00      0.00      0.00        67\n",
      "\n",
      "    accuracy                           0.99      6554\n",
      "   macro avg       0.49      0.50      0.50      6554\n",
      "weighted avg       0.98      0.99      0.98      6554\n",
      "\n",
      "Accuracy of                      fire: 0.99\n",
      "Category: earthquake \n",
      "               precision    recall  f1-score   support\n",
      "\n",
      "       False       0.98      0.99      0.98      5924\n",
      "        True       0.89      0.80      0.84       630\n",
      "\n",
      "    accuracy                           0.97      6554\n",
      "   macro avg       0.93      0.89      0.91      6554\n",
      "weighted avg       0.97      0.97      0.97      6554\n",
      "\n",
      "Accuracy of                earthquake: 0.97\n",
      "Category: cold \n",
      "               precision    recall  f1-score   support\n",
      "\n",
      "       False       0.98      1.00      0.99      6432\n",
      "        True       0.90      0.07      0.14       122\n",
      "\n",
      "    accuracy                           0.98      6554\n",
      "   macro avg       0.94      0.54      0.56      6554\n",
      "weighted avg       0.98      0.98      0.98      6554\n",
      "\n",
      "Accuracy of                      cold: 0.98\n",
      "Category: other_weather \n",
      "               precision    recall  f1-score   support\n",
      "\n",
      "       False       0.95      1.00      0.98      6235\n",
      "        True       0.59      0.04      0.08       319\n",
      "\n",
      "    accuracy                           0.95      6554\n",
      "   macro avg       0.77      0.52      0.53      6554\n",
      "weighted avg       0.94      0.95      0.93      6554\n",
      "\n",
      "Accuracy of             other_weather: 0.95\n",
      "Category: direct_report \n",
      "               precision    recall  f1-score   support\n",
      "\n",
      "       False       0.86      0.98      0.91      5289\n",
      "        True       0.76      0.33      0.46      1265\n",
      "\n",
      "    accuracy                           0.85      6554\n",
      "   macro avg       0.81      0.65      0.68      6554\n",
      "weighted avg       0.84      0.85      0.82      6554\n",
      "\n",
      "Accuracy of             direct_report: 0.85\n"
     ]
    },
    {
     "name": "stderr",
     "output_type": "stream",
     "text": [
      "C:\\Users\\cao\\anaconda3\\lib\\site-packages\\sklearn\\metrics\\_classification.py:1248: UndefinedMetricWarning: Precision and F-score are ill-defined and being set to 0.0 in labels with no predicted samples. Use `zero_division` parameter to control this behavior.\n",
      "  _warn_prf(average, modifier, msg_start, len(result))\n",
      "C:\\Users\\cao\\anaconda3\\lib\\site-packages\\sklearn\\metrics\\_classification.py:1248: UndefinedMetricWarning: Precision and F-score are ill-defined and being set to 0.0 in labels with no predicted samples. Use `zero_division` parameter to control this behavior.\n",
      "  _warn_prf(average, modifier, msg_start, len(result))\n",
      "C:\\Users\\cao\\anaconda3\\lib\\site-packages\\sklearn\\metrics\\_classification.py:1248: UndefinedMetricWarning: Precision and F-score are ill-defined and being set to 0.0 in labels with no predicted samples. Use `zero_division` parameter to control this behavior.\n",
      "  _warn_prf(average, modifier, msg_start, len(result))\n",
      "C:\\Users\\cao\\anaconda3\\lib\\site-packages\\sklearn\\metrics\\_classification.py:1248: UndefinedMetricWarning: Precision and F-score are ill-defined and being set to 0.0 in labels with no predicted samples. Use `zero_division` parameter to control this behavior.\n",
      "  _warn_prf(average, modifier, msg_start, len(result))\n",
      "C:\\Users\\cao\\anaconda3\\lib\\site-packages\\sklearn\\metrics\\_classification.py:1248: UndefinedMetricWarning: Precision and F-score are ill-defined and being set to 0.0 in labels with no predicted samples. Use `zero_division` parameter to control this behavior.\n",
      "  _warn_prf(average, modifier, msg_start, len(result))\n",
      "C:\\Users\\cao\\anaconda3\\lib\\site-packages\\sklearn\\metrics\\_classification.py:1248: UndefinedMetricWarning: Precision and F-score are ill-defined and being set to 0.0 in labels with no predicted samples. Use `zero_division` parameter to control this behavior.\n",
      "  _warn_prf(average, modifier, msg_start, len(result))\n",
      "C:\\Users\\cao\\anaconda3\\lib\\site-packages\\sklearn\\metrics\\_classification.py:1248: UndefinedMetricWarning: Precision and F-score are ill-defined and being set to 0.0 in labels with no predicted samples. Use `zero_division` parameter to control this behavior.\n",
      "  _warn_prf(average, modifier, msg_start, len(result))\n",
      "C:\\Users\\cao\\anaconda3\\lib\\site-packages\\sklearn\\metrics\\_classification.py:1248: UndefinedMetricWarning: Precision and F-score are ill-defined and being set to 0.0 in labels with no predicted samples. Use `zero_division` parameter to control this behavior.\n",
      "  _warn_prf(average, modifier, msg_start, len(result))\n",
      "C:\\Users\\cao\\anaconda3\\lib\\site-packages\\sklearn\\metrics\\_classification.py:1248: UndefinedMetricWarning: Precision and F-score are ill-defined and being set to 0.0 in labels with no predicted samples. Use `zero_division` parameter to control this behavior.\n",
      "  _warn_prf(average, modifier, msg_start, len(result))\n",
      "C:\\Users\\cao\\anaconda3\\lib\\site-packages\\sklearn\\metrics\\_classification.py:1248: UndefinedMetricWarning: Precision and F-score are ill-defined and being set to 0.0 in labels with no predicted samples. Use `zero_division` parameter to control this behavior.\n",
      "  _warn_prf(average, modifier, msg_start, len(result))\n",
      "C:\\Users\\cao\\anaconda3\\lib\\site-packages\\sklearn\\metrics\\_classification.py:1248: UndefinedMetricWarning: Precision and F-score are ill-defined and being set to 0.0 in labels with no predicted samples. Use `zero_division` parameter to control this behavior.\n",
      "  _warn_prf(average, modifier, msg_start, len(result))\n",
      "C:\\Users\\cao\\anaconda3\\lib\\site-packages\\sklearn\\metrics\\_classification.py:1248: UndefinedMetricWarning: Precision and F-score are ill-defined and being set to 0.0 in labels with no predicted samples. Use `zero_division` parameter to control this behavior.\n",
      "  _warn_prf(average, modifier, msg_start, len(result))\n"
     ]
    }
   ],
   "source": [
    "category_names = list(df.columns[4:])\n",
    "\n",
    "for i in range(len(category_names)):\n",
    "    print(\"Category:\", category_names[i],\"\\n\", classification_report(Y_test.iloc[:, i].values, Y_pred[:, i]))\n",
    "    print('Accuracy of %25s: %.2f' %(category_names[i], accuracy_score(Y_test.iloc[:, i].values, Y_pred[:,i])))"
   ]
  },
  {
   "cell_type": "code",
   "execution_count": 12,
   "metadata": {},
   "outputs": [
    {
     "data": {
      "text/plain": [
       "0.9442673666447924"
      ]
     },
     "execution_count": 12,
     "metadata": {},
     "output_type": "execute_result"
    }
   ],
   "source": [
    "m = MultiLabelBinarizer().fit(Y_test.values)\n",
    "f1_score(m.transform(Y_test.values),\n",
    "         m.transform(Y_pred),\n",
    "         average='macro')"
   ]
  },
  {
   "cell_type": "markdown",
   "metadata": {},
   "source": [
    "### 6. Improve your model\n",
    "Use grid search to find better parameters. "
   ]
  },
  {
   "cell_type": "code",
   "execution_count": 14,
   "metadata": {},
   "outputs": [],
   "source": [
    "parameters = {'clf__estimator__n_estimators': [50, 60],\n",
    "              'clf__estimator__min_samples_split': [2],\n",
    "              'clf__estimator__criterion': ['entropy']\n",
    "              }\n",
    "cv = GridSearchCV(pipeline, param_grid=parameters)"
   ]
  },
  {
   "cell_type": "markdown",
   "metadata": {},
   "source": [
    "### 7. Test your model\n",
    "Show the accuracy, precision, and recall of the tuned model.  \n",
    "\n",
    "Since this project focuses on code quality, process, and  pipelines, there is no minimum performance metric needed to pass. However, make sure to fine tune your models for accuracy, precision and recall to make your project stand out - especially for your portfolio!"
   ]
  },
  {
   "cell_type": "code",
   "execution_count": 16,
   "metadata": {},
   "outputs": [],
   "source": [
    "#cv.fit(X_train, Y_train)"
   ]
  },
  {
   "cell_type": "markdown",
   "metadata": {},
   "source": [
    "### 8. Try improving your model further. Here are a few ideas:\n",
    "* try other machine learning algorithms\n",
    "* add other features besides the TF-IDF"
   ]
  },
  {
   "cell_type": "markdown",
   "metadata": {},
   "source": [
    "### 9. Export your model as a pickle file"
   ]
  },
  {
   "cell_type": "markdown",
   "metadata": {},
   "source": [
    "### 10. Use this notebook to complete `train.py`\n",
    "Use the template file attached in the Resources folder to write a script that runs the steps above to create a database and export a model based on a new dataset specified by the user."
   ]
  },
  {
   "cell_type": "code",
   "execution_count": 14,
   "metadata": {},
   "outputs": [],
   "source": [
    "import pickle\n",
    "with open(\"disaster_model.pkl\", 'wb') as f:\n",
    "        pickle.dump(pipeline, f)"
   ]
  },
  {
   "cell_type": "code",
   "execution_count": null,
   "metadata": {},
   "outputs": [],
   "source": []
  }
 ],
 "metadata": {
  "kernelspec": {
   "display_name": "Python 3 (ipykernel)",
   "language": "python",
   "name": "python3"
  },
  "language_info": {
   "codemirror_mode": {
    "name": "ipython",
    "version": 3
   },
   "file_extension": ".py",
   "mimetype": "text/x-python",
   "name": "python",
   "nbconvert_exporter": "python",
   "pygments_lexer": "ipython3",
   "version": "3.9.7"
  }
 },
 "nbformat": 4,
 "nbformat_minor": 2
}
